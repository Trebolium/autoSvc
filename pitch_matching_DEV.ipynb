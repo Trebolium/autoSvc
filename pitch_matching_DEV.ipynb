{
 "cells": [
  {
   "cell_type": "code",
   "execution_count": 1,
   "metadata": {},
   "outputs": [
    {
     "name": "stdout",
     "output_type": "stream",
     "text": [
      "Model name:  damp_worldWithApers_Size0.25-avgEmbs__svcPitchCond_-bestPerformingSIE_mel80-\n",
      "building synth model\n"
     ]
    },
    {
     "data": {
      "text/plain": [
       "<All keys matched successfully>"
      ]
     },
     "execution_count": 1,
     "metadata": {},
     "output_type": "execute_result"
    }
   ],
   "source": [
    "import numpy as np\n",
    "from scipy.signal import medfilt\n",
    "import matplotlib.pyplot as plt\n",
    "import soundfile as sf\n",
    "import random, pdb, os, argparse, shutil, pickle, sys, csv, torch, yaml\n",
    "from torch.backends import cudnn\n",
    "from collections import OrderedDict\n",
    "\n",
    "sys.path.insert(1, '/homes/bdoc3/my_utils')\n",
    "from my_arrays import fix_feat_length, container_to_tensor, tensor_to_array\n",
    "from my_os import recursive_file_retrieval\n",
    "from my_audio.pitch import midi_as_onehot\n",
    "\n",
    "import utils\n",
    "\n",
    "sys.path.insert(1, '/homes/bdoc3/autoSvc')\n",
    "from convert.synthesis import build_model, wavegen\n",
    "\n",
    "\n",
    "# taken from https://gist.github.com/alimanfoo/c5977e87111abe8127453b21204c1065\n",
    "def find_runs(x):\n",
    "    \"\"\"Find runs of consecutive items in an array.\"\"\"\n",
    "\n",
    "    # ensure array\n",
    "    x = np.asanyarray(x)\n",
    "    if x.ndim != 1:\n",
    "        raise ValueError('only 1D array supported')\n",
    "    n = x.shape[0]\n",
    "\n",
    "    # handle empty array\n",
    "    if n == 0:\n",
    "        return np.array([]), np.array([]), np.array([])\n",
    "\n",
    "    else:\n",
    "        # find run starts\n",
    "        loc_run_start = np.empty(n, dtype=bool)\n",
    "        loc_run_start[0] = True\n",
    "        np.not_equal(x[:-1], x[1:], out=loc_run_start[1:])\n",
    "        run_starts = np.nonzero(loc_run_start)[0]\n",
    "\n",
    "        # find run values\n",
    "        run_values = x[loc_run_start]\n",
    "\n",
    "        # find run lengths\n",
    "        run_lengths = np.diff(np.append(run_starts, n))\n",
    "\n",
    "        return run_values, run_starts, run_lengths\n",
    "\n",
    "\n",
    "# parser = argparse.ArgumentParser()\n",
    "# parser.add_argument('-wc', '--which_cuda', type=str, default='train')\n",
    "# parser.add_argument('-rn', '--random_num', type=int, default=None)\n",
    "# config = parser.parse_args()\n",
    "\n",
    "# if config.random_num == None:\n",
    "#     trg_dir = str(random.randint(1000,9999))\n",
    "# else:\n",
    "#     trg_dir = str(config.random_num)\n",
    "trg_dir = str(random.randint(1000,9999))\n",
    "\n",
    "num_model_conds = 4\n",
    "num_convert_conds = 4\n",
    "# this_cuda = config.which_cuda\n",
    "this_cuda = 0\n",
    "voiced_percent_tolerance = 0.6\n",
    "\n",
    "model_names = {\n",
    "               'damp_mel_Size0.25-avgEmbs_with-bestPerformingSIE_mel80-':'M---Sng',\n",
    "               'damp_mel_Size0.25-avgEmbs_EmbLoss__-bestPerformingSIE_mel80-Cont2':'M-E-Sng',\n",
    "               'damp_mel_Size0.25-avgEmbs_withCcLoss-autoVc_pretrainedOnVctk_Mels80-':'M-C-Spk',\n",
    "               'damp_mel_Size0.25-avgEmbs_CcLoss__-bestPerformingSIE_mel80-to500kIters-Cont2':'M-C-Sng'}\n",
    "ckpt = 'ckpt_500000.pt'\n",
    "saved_models_dir = '/homes/bdoc3/my_data/autovc_models/autoSvc'\n",
    "subset = 'test'\n",
    "SVC_data_dir = '/import/c4dm-02/bdoc3/spmel/damp_qianParams/' +subset\n",
    "metadata_root_dir = '/homes/bdoc3/my_data/voice_embs_visuals_metadata'\n",
    "pitch_dir = '/import/c4dm-02/bdoc3/world_data/damp_80_16ms'\n",
    "wavenet_model_params = '/homes/bdoc3/my_data/autovc_models/checkpoint_step001000000_ema.pth'\n",
    "converted_voices_dir = '/homes/bdoc3/my_data/audio_data/output_audio/listeningTest3audio/' +trg_dir\n",
    "device = f'cuda:{this_cuda}'\n",
    "gender_conds = [(i,j) for i in range(2) for j in range(2)]\n",
    "gend_dict = {0:'M', 1:'F'}\n",
    "\n",
    "\n",
    "if not os.path.exists(converted_voices_dir):\n",
    "    os.makedirs(converted_voices_dir)\n",
    "\n",
    "# setup synth model\n",
    "print('building synth model')\n",
    "cudnn.benchmark = True\n",
    "torch.cuda.set_device(device)\n",
    "synth_model = build_model().to(device)\n",
    "checkpoint = torch.load(wavenet_model_params, map_location='cpu')\n",
    "new_state_dict = OrderedDict()\n",
    "for (k, v) in checkpoint[\"state_dict\"].items():\n",
    "    new_state_dict[k] = v.cuda(device)\n",
    "synth_model.load_state_dict(new_state_dict)"
   ]
  },
  {
   "cell_type": "code",
   "execution_count": 9,
   "metadata": {},
   "outputs": [],
   "source": [
    "class NoMatchError(Exception):\n",
    "    pass\n",
    "\n",
    "\n",
    "def get_gender_lists():\n",
    "    print('Getting gender info...')\n",
    "    performer_gender_list = utils.get_damp_gender(ignore_unknowns=True)\n",
    "    _, spmel_fps = recursive_file_retrieval(SVC_data_dir)\n",
    "    spmel_perf_id = [os.path.basename(fp).split('_')[0] for fp in spmel_fps]\n",
    "    performance_gender_subset = [perf_gen for perf_gen in performer_gender_list if perf_gen[0] in spmel_perf_id]\n",
    "    females = [perf for perf, gend in performance_gender_subset if gend == ' F']\n",
    "    males = [perf for perf, gend in performance_gender_subset if gend == ' M']\n",
    "    gender_separated_lists = [males, females]\n",
    "    return gender_separated_lists\n",
    "\n",
    "\n",
    "def get_feats(path):\n",
    "    spec_feats = np.load(path)\n",
    "    fn = os.path.basename(path)\n",
    "    world_feats = np.load(os.path.join(pitch_dir, subset, fn.split('_')[0], fn))\n",
    "    pitches = world_feats[:,-2:]\n",
    "    midi_contour = pitches[:,0]\n",
    "    unvoiced = pitches[:,1].astype(int) == 1\n",
    "    midi_contour[unvoiced] = 0\n",
    "    pitch_feats = midi_contour\n",
    "    pitch_feats = midi_as_onehot(pitch_feats, midi_range)\n",
    "    return spec_feats, pitch_feats\n",
    "\n",
    "\n",
    "def get_song_path(gender):\n",
    "    \n",
    "    gender_list = gender_separated_lists[gender]\n",
    "    rand_int = random.randint(0,len(gender_list)-1)\n",
    "    name = gender_list[rand_int]\n",
    "#     gender_list.pop(rand_int)\n",
    "    song_list = os.listdir(os.path.join(SVC_data_dir, name))\n",
    "    song_name = random.choice(song_list)\n",
    "    song_path = os.path.join(SVC_data_dir, name, song_name)\n",
    "\n",
    "    return song_path, rand_int\n",
    "\n",
    "\n",
    "def get_relevant_avg_pitches(continuous_pitch_feats, window_size, irrelenvant_ind=0):\n",
    "    average_pitches = []\n",
    "    for idx in range(len(continuous_pitch_feats)-window_size):\n",
    "        avging_window = continuous_pitch_feats[idx:idx+window_size]\n",
    "        voiced_window = avging_window!=0\n",
    "\n",
    "        if sum(voiced_window) != irrelenvant_ind:\n",
    "            window_average = round(np.average(avging_window[voiced_window]))\n",
    "        else:\n",
    "            window_average = 0\n",
    "\n",
    "        average_pitches.append(window_average)\n",
    "\n",
    "    average_pitches = np.asarray(average_pitches)\n",
    "    average_pitches = np.concatenate((average_pitches, np.zeros((window_size))))\n",
    "    return average_pitches\n",
    "\n",
    "\n",
    "def matching_pitch_clip(trg_gender, avg_src_pitch, src_path, track_search_tolerance=10, voiced_percent_tolerance=0.7):\n",
    "    \n",
    "    matched_singer_found = False\n",
    "    attempt_num = 0\n",
    "    while matched_singer_found==False:\n",
    "        \n",
    "        trg_path, trg_rand_gend_int = get_song_path(trg_gender)\n",
    "        if os.path.dirname(trg_path) == os.path.dirname(src_path):\n",
    "            continue\n",
    "    \n",
    "        print(f'attempt num: {attempt_num}, candidate_song: {os.path.basename(trg_path)}')\n",
    "        trg_spec_feats, trg_pitch_feats = get_feats(trg_path)\n",
    "        continuous_pitch_feats = np.argmax(trg_pitch_feats, axis=1)\n",
    "        average_trg_pitches = get_relevant_avg_pitches(continuous_pitch_feats, window_timesteps)\n",
    "        start_of_chunk_idx = best_pitch_matching_idx(average_trg_pitches, avg_src_pitch)\n",
    "        \n",
    "        if start_of_chunk_idx >= 0:\n",
    "            trg_pitch_clip, _ = fix_feat_length(trg_pitch_feats, window_timesteps, offset=start_of_chunk_idx)\n",
    "            voiced = np.argmax(trg_pitch_clip, axis=1) != 0\n",
    "            if (sum(voiced) / len(voiced)) < voiced_percent_tolerance:\n",
    "                continue\n",
    "            matched_singer_found = True\n",
    "            break\n",
    "        \n",
    "        attempt_num += 1\n",
    "        if attempt_num >= track_search_tolerance:\n",
    "            raise NoMatchError(f'No matching pitches after searching {attempt_num} target candidates' )\n",
    "            \n",
    "    trg_spec_clip, _ = fix_feat_length(trg_spec_feats, window_timesteps, offset=start_of_chunk_idx)\n",
    "    \n",
    "    return trg_spec_clip, trg_pitch_clip, trg_rand_gend_int, start_of_chunk_idx, trg_path\n",
    "\n",
    "\n",
    "# find continuous chunks that are within tolerance of reference pitch, return the index of the random one\n",
    "def best_pitch_matching_idx(average_trg_pitches, ref_pitch, tolerance=2, min_avg_pitch_dur=10):\n",
    "\n",
    "    above_lower = average_trg_pitches > (ref_pitch - tolerance)\n",
    "    below_upper = average_trg_pitches < (ref_pitch + tolerance)\n",
    "    within_range_pitches = above_lower & below_upper\n",
    "#     pdb.set_trace()\n",
    "    eligible_run_indices = []\n",
    "    vals, starts, lengths = find_runs(within_range_pitches)\n",
    "    # for chunks of True in boolean array, if length is long enough, save in list\n",
    "    for i in range(len(vals)):\n",
    "        if vals[i]:\n",
    "            if lengths[i] >= min_avg_pitch_dur:\n",
    "                eligible_run_indices.append(i)\n",
    "    if len(eligible_run_indices) == 0:\n",
    "        return -1\n",
    "    else:\n",
    "        chosen_run_idx = random.choice(eligible_run_indices)\n",
    "        return starts[i]\n",
    "    \n",
    "    \n",
    "def pitch_matched_src_trg(src_gender, trg_gender, voiced_percent_tolerance):\n",
    "\n",
    "    matching_target_found = False\n",
    "    while not matching_target_found:\n",
    "        src_path, src_rand_gend_int = get_song_path(src_gender)\n",
    "    #     src_path = '/import/c4dm-02/bdoc3/spmel/damp_qianParams/test/434587164/434587164_2141814685.npy'\n",
    "\n",
    "        src_spec_feats, src_pitch_feats = get_feats(src_path)\n",
    "\n",
    "        src_rand_ts = random.randint(0, len(src_spec_feats)-window_timesteps-1)\n",
    "    #     src_rand_ts = 2981\n",
    "\n",
    "        src_spec_clip, _ = fix_feat_length(src_spec_feats, window_timesteps, offset=src_rand_ts)\n",
    "        src_pitch_clip, _ = fix_feat_length(src_pitch_feats, window_timesteps, offset=src_rand_ts)\n",
    "        # ensure we do not include avereaging over zero values which represents unvoiced\n",
    "        voiced = np.argmax(src_pitch_clip,  axis=1)!=0\n",
    "        if (sum(voiced) / len(voiced)) < voiced_percent_tolerance:\n",
    "            continue\n",
    "        avg_src_pitch = round(np.average(np.argmax(src_pitch_clip, axis=1)[voiced]))\n",
    "\n",
    "        print(f'src_song: {os.path.basename(src_path)}, rand_int: {src_rand_ts}, src_gend: {gend_dict[src_gender]}, avg_src_pitch: {avg_src_pitch}')\n",
    "\n",
    "        print(avg_src_pitch)\n",
    "        try:\n",
    "            spec_pitch_gendint_randts_path = matching_pitch_clip(trg_gender,\n",
    "                                                     avg_src_pitch,\n",
    "                                                     src_path,\n",
    "                                                     voiced_percent_tolerance=voiced_percent_tolerance)\n",
    "\n",
    "            trg_spec_clip, trg_pitch_clip, trg_rand_gend_int, trg_rand_ts, trg_path = spec_pitch_gendint_randts_path\n",
    "            try:\n",
    "                gender_separated_lists[src_gender].pop(src_rand_gend_int)\n",
    "                gender_separated_lists[trg_gender].pop(trg_rand_gend_int)\n",
    "            except Exception as e:\n",
    "                print(e)\n",
    "                pdb.set_trace()\n",
    "            matching_target_found = True\n",
    "        except NoMatchError as e:\n",
    "            continue\n",
    "    \n",
    "    src_data = src_spec_clip, src_pitch_clip, src_rand_ts, src_path\n",
    "    trg_data = trg_spec_clip, trg_pitch_clip, trg_rand_ts, trg_path\n",
    "            \n",
    "    return src_data, trg_data\n",
    "\n",
    "\n",
    "def parse_data(data):\n",
    "    clipped_spec, clipped_pitches, rand_ts, path = data\n",
    "    voice_id = os.path.basename(path).split('_')[0]\n",
    "    sie_emb = subset_metadata[subset_names.index(voice_id)][1]\n",
    "    arr_list = [clipped_spec, clipped_pitches, sie_emb]\n",
    "    tns_list = [container_to_tensor(arr, add_batch_dim=True, device=device) for arr in arr_list]\n",
    "    clipped_spec, clipped_pitches, sie_emb = tns_list\n",
    "    fn = os.path.basename(path)\n",
    "    return clipped_spec, clipped_pitches, sie_emb, rand_ts, fn\n",
    "\n",
    "\n",
    "def get_fn_string(src_fn, trg_fn, src_rand_ts):\n",
    "    model_str = model_names[model_name]\n",
    "    src_str = gend_dict[src_gender] +src_fn.split('_')[0]\n",
    "    trg_str = gend_dict[trg_gender] +trg_fn.split('_')[0]\n",
    "    return model_str +f'_{src_str}' +f'_timestep{src_rand_ts}' +f'_{trg_str}'\n",
    "\n",
    "\n",
    "def write_to_disk(fn_name, feats):\n",
    "    # synthesis\n",
    "    dst_dir = os.path.join(converted_voices_dir, fn_name) +'.wav'\n",
    "    if os.path.exists(dst_dir):\n",
    "        return\n",
    "    print(f'Synthesizing converted audio at: {dst_dir}')\n",
    "    waveform = wavegen(synth_model, this_cuda, c=feats)\n",
    "    sf.write(dst_dir, waveform, samplerate=SVC_feat_params['sr'])\n"
   ]
  },
  {
   "cell_type": "code",
   "execution_count": 10,
   "metadata": {},
   "outputs": [
    {
     "name": "stdout",
     "output_type": "stream",
     "text": [
      "Getting gender info...\n",
      "Loading model: damp_mel_Size0.25-avgEmbs_with-bestPerformingSIE_mel80-\n",
      "Getting feats for condition: (0, 1)\n",
      "src_song: 356546622_1857301129.npy, rand_int: 2113, src_gend: M, avg_src_pitch: 27\n",
      "27\n",
      "attempt num: 0, candidate_song: 445201145_1979430995.npy\n",
      "attempt num: 0, candidate_song: 562082160_2014574416.npy\n"
     ]
    },
    {
     "name": "stderr",
     "output_type": "stream",
     "text": [
      "  5%|███████████▌                                                                                                                                                                                                                                          | 12/256 [00:00<00:02, 112.17it/s]"
     ]
    },
    {
     "name": "stdout",
     "output_type": "stream",
     "text": [
      "Synthesizing converted audio at: /homes/bdoc3/my_data/audio_data/output_audio/listeningTest3audio/1288/M---Sng_M356546622_timestep2113_F562082160.wav\n"
     ]
    },
    {
     "name": "stderr",
     "output_type": "stream",
     "text": [
      "100%|██████████████████████████████████████████████████████████████████████████████████████████████████████████████████████████████████████████████████████████████████████████████████████████████████████████████████████████████████████████████████████| 256/256 [00:02<00:00, 95.02it/s]\n",
      "  4%|█████████▋                                                                                                                                                                                                                                             | 10/256 [00:00<00:02, 91.35it/s]"
     ]
    },
    {
     "name": "stdout",
     "output_type": "stream",
     "text": [
      "Synthesizing converted audio at: /homes/bdoc3/my_data/audio_data/output_audio/listeningTest3audio/1288/M---Sng_M356546622_timestep2113_F562082160_target.wav\n"
     ]
    },
    {
     "name": "stderr",
     "output_type": "stream",
     "text": [
      "100%|██████████████████████████████████████████████████████████████████████████████████████████████████████████████████████████████████████████████████████████████████████████████████████████████████████████████████████████████████████████████████████| 256/256 [00:02<00:00, 91.46it/s]\n"
     ]
    },
    {
     "name": "stdout",
     "output_type": "stream",
     "text": [
      "Getting feats for condition: (0, 2)\n",
      "src_song: 1075097560_1802209347.npy, rand_int: 2879, src_gend: F, avg_src_pitch: 26\n",
      "26\n",
      "attempt num: 0, candidate_song: 679330233_1620770101.npy\n",
      "attempt num: 1, candidate_song: 1225174457_1696988218.npy\n"
     ]
    },
    {
     "name": "stderr",
     "output_type": "stream",
     "text": [
      "  4%|█████████▋                                                                                                                                                                                                                                             | 10/256 [00:00<00:02, 94.56it/s]"
     ]
    },
    {
     "name": "stdout",
     "output_type": "stream",
     "text": [
      "Synthesizing converted audio at: /homes/bdoc3/my_data/audio_data/output_audio/listeningTest3audio/1288/M---Sng_F1075097560_timestep2879_M1225174457.wav\n"
     ]
    },
    {
     "name": "stderr",
     "output_type": "stream",
     "text": [
      "100%|██████████████████████████████████████████████████████████████████████████████████████████████████████████████████████████████████████████████████████████████████████████████████████████████████████████████████████████████████████████████████████| 256/256 [00:02<00:00, 92.45it/s]\n",
      "  4%|██████████▌                                                                                                                                                                                                                                           | 11/256 [00:00<00:02, 104.64it/s]"
     ]
    },
    {
     "name": "stdout",
     "output_type": "stream",
     "text": [
      "Synthesizing converted audio at: /homes/bdoc3/my_data/audio_data/output_audio/listeningTest3audio/1288/M---Sng_F1075097560_timestep2879_M1225174457_target.wav\n"
     ]
    },
    {
     "name": "stderr",
     "output_type": "stream",
     "text": [
      "100%|██████████████████████████████████████████████████████████████████████████████████████████████████████████████████████████████████████████████████████████████████████████████████████████████████████████████████████████████████████████████████████| 256/256 [00:02<00:00, 96.05it/s]\n"
     ]
    },
    {
     "name": "stdout",
     "output_type": "stream",
     "text": [
      "Getting feats for condition: (0, 3)\n",
      "src_song: 347200007_1652137670.npy, rand_int: 6245, src_gend: F, avg_src_pitch: 31\n",
      "31\n",
      "attempt num: 0, candidate_song: 131830398_1978373554.npy\n"
     ]
    },
    {
     "name": "stderr",
     "output_type": "stream",
     "text": [
      "  4%|█████████▋                                                                                                                                                                                                                                             | 10/256 [00:00<00:02, 94.10it/s]"
     ]
    },
    {
     "name": "stdout",
     "output_type": "stream",
     "text": [
      "Synthesizing converted audio at: /homes/bdoc3/my_data/audio_data/output_audio/listeningTest3audio/1288/M---Sng_F347200007_timestep6245_F131830398.wav\n"
     ]
    },
    {
     "name": "stderr",
     "output_type": "stream",
     "text": [
      "100%|██████████████████████████████████████████████████████████████████████████████████████████████████████████████████████████████████████████████████████████████████████████████████████████████████████████████████████████████████████████████████████| 256/256 [00:02<00:00, 94.69it/s]\n",
      "  4%|█████████▋                                                                                                                                                                                                                                             | 10/256 [00:00<00:02, 96.19it/s]"
     ]
    },
    {
     "name": "stdout",
     "output_type": "stream",
     "text": [
      "Synthesizing converted audio at: /homes/bdoc3/my_data/audio_data/output_audio/listeningTest3audio/1288/M---Sng_F347200007_timestep6245_F131830398_target.wav\n"
     ]
    },
    {
     "name": "stderr",
     "output_type": "stream",
     "text": [
      "100%|██████████████████████████████████████████████████████████████████████████████████████████████████████████████████████████████████████████████████████████████████████████████████████████████████████████████████████████████████████████████████████| 256/256 [00:02<00:00, 95.30it/s]\n"
     ]
    },
    {
     "name": "stdout",
     "output_type": "stream",
     "text": [
      "Loading model: damp_mel_Size0.25-avgEmbs_EmbLoss__-bestPerformingSIE_mel80-Cont2\n",
      "Getting feats for condition: (1, 0)\n",
      "src_song: 837014493_1707728393.npy, rand_int: 9720, src_gend: M, avg_src_pitch: 27\n",
      "27\n",
      "attempt num: 0, candidate_song: 679735915_2086198009.npy\n"
     ]
    },
    {
     "name": "stderr",
     "output_type": "stream",
     "text": [
      "  4%|█████████▋                                                                                                                                                                                                                                             | 10/256 [00:00<00:02, 92.55it/s]"
     ]
    },
    {
     "name": "stdout",
     "output_type": "stream",
     "text": [
      "Synthesizing converted audio at: /homes/bdoc3/my_data/audio_data/output_audio/listeningTest3audio/1288/M-E-Sng_M837014493_timestep9720_M679735915.wav\n"
     ]
    },
    {
     "name": "stderr",
     "output_type": "stream",
     "text": [
      "100%|██████████████████████████████████████████████████████████████████████████████████████████████████████████████████████████████████████████████████████████████████████████████████████████████████████████████████████████████████████████████████████| 256/256 [00:02<00:00, 98.15it/s]\n",
      "  5%|███████████▌                                                                                                                                                                                                                                          | 12/256 [00:00<00:02, 112.21it/s]"
     ]
    },
    {
     "name": "stdout",
     "output_type": "stream",
     "text": [
      "Synthesizing converted audio at: /homes/bdoc3/my_data/audio_data/output_audio/listeningTest3audio/1288/M-E-Sng_M837014493_timestep9720_M679735915_target.wav\n"
     ]
    },
    {
     "name": "stderr",
     "output_type": "stream",
     "text": [
      "100%|█████████████████████████████████████████████████████████████████████████████████████████████████████████████████████████████████████████████████████████████████████████████████████████████████████████████████████████████████████████████████████| 256/256 [00:02<00:00, 104.17it/s]\n"
     ]
    },
    {
     "name": "stdout",
     "output_type": "stream",
     "text": [
      "Getting feats for condition: (1, 1)\n",
      "src_song: 393885791_1841959026.npy, rand_int: 4104, src_gend: M, avg_src_pitch: 23\n",
      "23\n",
      "attempt num: 0, candidate_song: 1024309961_1923132086.npy\n"
     ]
    },
    {
     "name": "stderr",
     "output_type": "stream",
     "text": [
      "  4%|██████████▌                                                                                                                                                                                                                                           | 11/256 [00:00<00:02, 107.65it/s]"
     ]
    },
    {
     "name": "stdout",
     "output_type": "stream",
     "text": [
      "Synthesizing converted audio at: /homes/bdoc3/my_data/audio_data/output_audio/listeningTest3audio/1288/M-E-Sng_M393885791_timestep4104_F1024309961.wav\n"
     ]
    },
    {
     "name": "stderr",
     "output_type": "stream",
     "text": [
      "100%|█████████████████████████████████████████████████████████████████████████████████████████████████████████████████████████████████████████████████████████████████████████████████████████████████████████████████████████████████████████████████████| 256/256 [00:02<00:00, 103.28it/s]\n",
      "  4%|██████████▌                                                                                                                                                                                                                                           | 11/256 [00:00<00:02, 101.28it/s]"
     ]
    },
    {
     "name": "stdout",
     "output_type": "stream",
     "text": [
      "Synthesizing converted audio at: /homes/bdoc3/my_data/audio_data/output_audio/listeningTest3audio/1288/M-E-Sng_M393885791_timestep4104_F1024309961_target.wav\n"
     ]
    },
    {
     "name": "stderr",
     "output_type": "stream",
     "text": [
      "100%|██████████████████████████████████████████████████████████████████████████████████████████████████████████████████████████████████████████████████████████████████████████████████████████████████████████████████████████████████████████████████████| 256/256 [00:02<00:00, 99.65it/s]\n"
     ]
    },
    {
     "name": "stdout",
     "output_type": "stream",
     "text": [
      "Getting feats for condition: (1, 2)\n",
      "src_song: 631399867_1798241732.npy, rand_int: 9138, src_gend: F, avg_src_pitch: 34\n",
      "34\n",
      "attempt num: 0, candidate_song: 434587164_2141814685.npy\n"
     ]
    },
    {
     "name": "stderr",
     "output_type": "stream",
     "text": [
      "  4%|██████████▌                                                                                                                                                                                                                                           | 11/256 [00:00<00:02, 108.42it/s]"
     ]
    },
    {
     "name": "stdout",
     "output_type": "stream",
     "text": [
      "Synthesizing converted audio at: /homes/bdoc3/my_data/audio_data/output_audio/listeningTest3audio/1288/M-E-Sng_F631399867_timestep9138_M434587164.wav\n"
     ]
    },
    {
     "name": "stderr",
     "output_type": "stream",
     "text": [
      "100%|█████████████████████████████████████████████████████████████████████████████████████████████████████████████████████████████████████████████████████████████████████████████████████████████████████████████████████████████████████████████████████| 256/256 [00:02<00:00, 104.17it/s]\n",
      "  4%|██████████▌                                                                                                                                                                                                                                           | 11/256 [00:00<00:02, 109.05it/s]"
     ]
    },
    {
     "name": "stdout",
     "output_type": "stream",
     "text": [
      "Synthesizing converted audio at: /homes/bdoc3/my_data/audio_data/output_audio/listeningTest3audio/1288/M-E-Sng_F631399867_timestep9138_M434587164_target.wav\n"
     ]
    },
    {
     "name": "stderr",
     "output_type": "stream",
     "text": [
      "100%|█████████████████████████████████████████████████████████████████████████████████████████████████████████████████████████████████████████████████████████████████████████████████████████████████████████████████████████████████████████████████████| 256/256 [00:02<00:00, 104.92it/s]\n"
     ]
    },
    {
     "name": "stdout",
     "output_type": "stream",
     "text": [
      "Getting feats for condition: (1, 3)\n",
      "src_song: 1535954646_2078659310.npy, rand_int: 8733, src_gend: F, avg_src_pitch: 34\n",
      "34\n",
      "attempt num: 0, candidate_song: 121118009_1862443499.npy\n",
      "attempt num: 1, candidate_song: 86113352_1934389516.npy\n",
      "attempt num: 2, candidate_song: 928249842_2054518741.npy\n",
      "attempt num: 2, candidate_song: 1520929407_1893618207.npy\n",
      "attempt num: 3, candidate_song: 131153609_1662750657.npy\n"
     ]
    },
    {
     "name": "stderr",
     "output_type": "stream",
     "text": [
      "  4%|████████▋                                                                                                                                                                                                                                               | 9/256 [00:00<00:02, 86.30it/s]"
     ]
    },
    {
     "name": "stdout",
     "output_type": "stream",
     "text": [
      "Synthesizing converted audio at: /homes/bdoc3/my_data/audio_data/output_audio/listeningTest3audio/1288/M-E-Sng_F1535954646_timestep8733_F131153609.wav\n"
     ]
    },
    {
     "name": "stderr",
     "output_type": "stream",
     "text": [
      "100%|██████████████████████████████████████████████████████████████████████████████████████████████████████████████████████████████████████████████████████████████████████████████████████████████████████████████████████████████████████████████████████| 256/256 [00:02<00:00, 93.99it/s]\n",
      "  4%|█████████▋                                                                                                                                                                                                                                             | 10/256 [00:00<00:02, 94.57it/s]"
     ]
    },
    {
     "name": "stdout",
     "output_type": "stream",
     "text": [
      "Synthesizing converted audio at: /homes/bdoc3/my_data/audio_data/output_audio/listeningTest3audio/1288/M-E-Sng_F1535954646_timestep8733_F131153609_target.wav\n"
     ]
    },
    {
     "name": "stderr",
     "output_type": "stream",
     "text": [
      "100%|██████████████████████████████████████████████████████████████████████████████████████████████████████████████████████████████████████████████████████████████████████████████████████████████████████████████████████████████████████████████████████| 256/256 [00:02<00:00, 92.43it/s]\n"
     ]
    },
    {
     "name": "stdout",
     "output_type": "stream",
     "text": [
      "Loading model: damp_mel_Size0.25-avgEmbs_withCcLoss-autoVc_pretrainedOnVctk_Mels80-\n",
      "Getting feats for condition: (2, 0)\n",
      "src_song: 475351623_1840755102.npy, rand_int: 4552, src_gend: M, avg_src_pitch: 21\n",
      "21\n",
      "attempt num: 0, candidate_song: 837014493_1707728393.npy\n"
     ]
    },
    {
     "name": "stderr",
     "output_type": "stream",
     "text": [
      "  4%|██████████▌                                                                                                                                                                                                                                           | 11/256 [00:00<00:02, 108.22it/s]"
     ]
    },
    {
     "name": "stdout",
     "output_type": "stream",
     "text": [
      "Synthesizing converted audio at: /homes/bdoc3/my_data/audio_data/output_audio/listeningTest3audio/1288/M-C-Spk_M475351623_timestep4552_M837014493.wav\n"
     ]
    },
    {
     "name": "stderr",
     "output_type": "stream",
     "text": [
      "100%|██████████████████████████████████████████████████████████████████████████████████████████████████████████████████████████████████████████████████████████████████████████████████████████████████████████████████████████████████████████████████████| 256/256 [00:02<00:00, 97.59it/s]\n",
      "  4%|█████████▋                                                                                                                                                                                                                                             | 10/256 [00:00<00:02, 97.81it/s]"
     ]
    },
    {
     "name": "stdout",
     "output_type": "stream",
     "text": [
      "Synthesizing converted audio at: /homes/bdoc3/my_data/audio_data/output_audio/listeningTest3audio/1288/M-C-Spk_M475351623_timestep4552_M837014493_target.wav\n"
     ]
    },
    {
     "name": "stderr",
     "output_type": "stream",
     "text": [
      "100%|██████████████████████████████████████████████████████████████████████████████████████████████████████████████████████████████████████████████████████████████████████████████████████████████████████████████████████████████████████████████████████| 256/256 [00:02<00:00, 97.49it/s]\n"
     ]
    },
    {
     "name": "stdout",
     "output_type": "stream",
     "text": [
      "Getting feats for condition: (2, 1)\n",
      "src_song: 100820170_1709501700.npy, rand_int: 2385, src_gend: M, avg_src_pitch: 32\n",
      "32\n",
      "attempt num: 0, candidate_song: 197252304_1932323839.npy\n"
     ]
    },
    {
     "name": "stderr",
     "output_type": "stream",
     "text": [
      "  4%|██████████▌                                                                                                                                                                                                                                           | 11/256 [00:00<00:02, 107.54it/s]"
     ]
    },
    {
     "name": "stdout",
     "output_type": "stream",
     "text": [
      "Synthesizing converted audio at: /homes/bdoc3/my_data/audio_data/output_audio/listeningTest3audio/1288/M-C-Spk_M100820170_timestep2385_F197252304.wav\n"
     ]
    },
    {
     "name": "stderr",
     "output_type": "stream",
     "text": [
      "100%|██████████████████████████████████████████████████████████████████████████████████████████████████████████████████████████████████████████████████████████████████████████████████████████████████████████████████████████████████████████████████████| 256/256 [00:02<00:00, 96.29it/s]\n",
      "  4%|█████████▋                                                                                                                                                                                                                                             | 10/256 [00:00<00:02, 92.67it/s]"
     ]
    },
    {
     "name": "stdout",
     "output_type": "stream",
     "text": [
      "Synthesizing converted audio at: /homes/bdoc3/my_data/audio_data/output_audio/listeningTest3audio/1288/M-C-Spk_M100820170_timestep2385_F197252304_target.wav\n"
     ]
    },
    {
     "name": "stderr",
     "output_type": "stream",
     "text": [
      "100%|██████████████████████████████████████████████████████████████████████████████████████████████████████████████████████████████████████████████████████████████████████████████████████████████████████████████████████████████████████████████████████| 256/256 [00:02<00:00, 92.48it/s]\n"
     ]
    },
    {
     "name": "stdout",
     "output_type": "stream",
     "text": [
      "Getting feats for condition: (2, 2)\n",
      "src_song: 291470337_1540044796.npy, rand_int: 6536, src_gend: F, avg_src_pitch: 31\n",
      "31\n",
      "attempt num: 0, candidate_song: 609235072_2260500702.npy\n",
      "attempt num: 0, candidate_song: 837014493_1652389786.npy\n",
      "attempt num: 1, candidate_song: 1473212998_2204609646.npy\n"
     ]
    },
    {
     "name": "stderr",
     "output_type": "stream",
     "text": [
      "  4%|█████████▋                                                                                                                                                                                                                                             | 10/256 [00:00<00:02, 95.51it/s]"
     ]
    },
    {
     "name": "stdout",
     "output_type": "stream",
     "text": [
      "Synthesizing converted audio at: /homes/bdoc3/my_data/audio_data/output_audio/listeningTest3audio/1288/M-C-Spk_F291470337_timestep6536_M1473212998.wav\n"
     ]
    },
    {
     "name": "stderr",
     "output_type": "stream",
     "text": [
      "100%|██████████████████████████████████████████████████████████████████████████████████████████████████████████████████████████████████████████████████████████████████████████████████████████████████████████████████████████████████████████████████████| 256/256 [00:02<00:00, 97.64it/s]\n",
      "  4%|████████▋                                                                                                                                                                                                                                               | 9/256 [00:00<00:02, 88.21it/s]"
     ]
    },
    {
     "name": "stdout",
     "output_type": "stream",
     "text": [
      "Synthesizing converted audio at: /homes/bdoc3/my_data/audio_data/output_audio/listeningTest3audio/1288/M-C-Spk_F291470337_timestep6536_M1473212998_target.wav\n"
     ]
    },
    {
     "name": "stderr",
     "output_type": "stream",
     "text": [
      "100%|██████████████████████████████████████████████████████████████████████████████████████████████████████████████████████████████████████████████████████████████████████████████████████████████████████████████████████████████████████████████████████| 256/256 [00:02<00:00, 96.66it/s]\n"
     ]
    },
    {
     "name": "stdout",
     "output_type": "stream",
     "text": [
      "Getting feats for condition: (2, 3)\n",
      "src_song: 250904521_1819610249.npy, rand_int: 3876, src_gend: F, avg_src_pitch: 31\n",
      "31\n",
      "attempt num: 0, candidate_song: 537048662_1979271762.npy\n"
     ]
    },
    {
     "name": "stderr",
     "output_type": "stream",
     "text": [
      "  4%|█████████▋                                                                                                                                                                                                                                             | 10/256 [00:00<00:02, 99.46it/s]"
     ]
    },
    {
     "name": "stdout",
     "output_type": "stream",
     "text": [
      "Synthesizing converted audio at: /homes/bdoc3/my_data/audio_data/output_audio/listeningTest3audio/1288/M-C-Spk_F250904521_timestep3876_F537048662.wav\n"
     ]
    },
    {
     "name": "stderr",
     "output_type": "stream",
     "text": [
      "100%|█████████████████████████████████████████████████████████████████████████████████████████████████████████████████████████████████████████████████████████████████████████████████████████████████████████████████████████████████████████████████████| 256/256 [00:02<00:00, 100.96it/s]\n",
      "  4%|█████████▋                                                                                                                                                                                                                                             | 10/256 [00:00<00:02, 95.99it/s]"
     ]
    },
    {
     "name": "stdout",
     "output_type": "stream",
     "text": [
      "Synthesizing converted audio at: /homes/bdoc3/my_data/audio_data/output_audio/listeningTest3audio/1288/M-C-Spk_F250904521_timestep3876_F537048662_target.wav\n"
     ]
    },
    {
     "name": "stderr",
     "output_type": "stream",
     "text": [
      "100%|██████████████████████████████████████████████████████████████████████████████████████████████████████████████████████████████████████████████████████████████████████████████████████████████████████████████████████████████████████████████████████| 256/256 [00:02<00:00, 99.59it/s]\n"
     ]
    },
    {
     "name": "stdout",
     "output_type": "stream",
     "text": [
      "Loading model: damp_mel_Size0.25-avgEmbs_CcLoss__-bestPerformingSIE_mel80-to500kIters-Cont2\n",
      "Getting feats for condition: (3, 0)\n",
      "src_song: 473926181_1927111247.npy, rand_int: 511, src_gend: M, avg_src_pitch: 24\n",
      "24\n",
      "attempt num: 0, candidate_song: 1224586431_2081256053.npy\n"
     ]
    },
    {
     "name": "stderr",
     "output_type": "stream",
     "text": [
      "  4%|██████████▌                                                                                                                                                                                                                                           | 11/256 [00:00<00:02, 109.05it/s]"
     ]
    },
    {
     "name": "stdout",
     "output_type": "stream",
     "text": [
      "Synthesizing converted audio at: /homes/bdoc3/my_data/audio_data/output_audio/listeningTest3audio/1288/M-C-Sng_M473926181_timestep511_M1224586431.wav\n"
     ]
    },
    {
     "name": "stderr",
     "output_type": "stream",
     "text": [
      "100%|██████████████████████████████████████████████████████████████████████████████████████████████████████████████████████████████████████████████████████████████████████████████████████████████████████████████████████████████████████████████████████| 256/256 [00:02<00:00, 95.12it/s]\n",
      "  4%|██████████▌                                                                                                                                                                                                                                           | 11/256 [00:00<00:02, 106.45it/s]"
     ]
    },
    {
     "name": "stdout",
     "output_type": "stream",
     "text": [
      "Synthesizing converted audio at: /homes/bdoc3/my_data/audio_data/output_audio/listeningTest3audio/1288/M-C-Sng_M473926181_timestep511_M1224586431_target.wav\n"
     ]
    },
    {
     "name": "stderr",
     "output_type": "stream",
     "text": [
      "100%|██████████████████████████████████████████████████████████████████████████████████████████████████████████████████████████████████████████████████████████████████████████████████████████████████████████████████████████████████████████████████████| 256/256 [00:02<00:00, 95.84it/s]\n"
     ]
    },
    {
     "name": "stdout",
     "output_type": "stream",
     "text": [
      "Getting feats for condition: (3, 1)\n",
      "src_song: 310200775_2063673644.npy, rand_int: 1873, src_gend: M, avg_src_pitch: 14\n",
      "14\n",
      "attempt num: 0, candidate_song: 613209974_2075006696.npy\n",
      "attempt num: 1, candidate_song: 1456702500_1823349608.npy\n",
      "attempt num: 2, candidate_song: 84357560_1564596901.npy\n",
      "attempt num: 3, candidate_song: 451272601_1836602131.npy\n",
      "attempt num: 4, candidate_song: 1118781094_2011259238.npy\n",
      "attempt num: 5, candidate_song: 996467965_1959871960.npy\n",
      "attempt num: 6, candidate_song: 1009119594_2126186724.npy\n",
      "attempt num: 7, candidate_song: 702368937_1795746515.npy\n",
      "attempt num: 8, candidate_song: 213087049_1942795396.npy\n",
      "attempt num: 9, candidate_song: 1748912302_2299952324.npy\n",
      "src_song: 618517515_1947173508.npy, rand_int: 178, src_gend: M, avg_src_pitch: 27\n",
      "27\n",
      "attempt num: 0, candidate_song: 1118781094_1937866789.npy\n"
     ]
    },
    {
     "name": "stderr",
     "output_type": "stream",
     "text": [
      "  4%|█████████▋                                                                                                                                                                                                                                             | 10/256 [00:00<00:02, 96.56it/s]"
     ]
    },
    {
     "name": "stdout",
     "output_type": "stream",
     "text": [
      "Synthesizing converted audio at: /homes/bdoc3/my_data/audio_data/output_audio/listeningTest3audio/1288/M-C-Sng_M618517515_timestep178_F1118781094.wav\n"
     ]
    },
    {
     "name": "stderr",
     "output_type": "stream",
     "text": [
      "100%|█████████████████████████████████████████████████████████████████████████████████████████████████████████████████████████████████████████████████████████████████████████████████████████████████████████████████████████████████████████████████████| 256/256 [00:02<00:00, 100.99it/s]\n",
      "  4%|██████████▌                                                                                                                                                                                                                                           | 11/256 [00:00<00:02, 104.74it/s]"
     ]
    },
    {
     "name": "stdout",
     "output_type": "stream",
     "text": [
      "Synthesizing converted audio at: /homes/bdoc3/my_data/audio_data/output_audio/listeningTest3audio/1288/M-C-Sng_M618517515_timestep178_F1118781094_target.wav\n"
     ]
    },
    {
     "name": "stderr",
     "output_type": "stream",
     "text": [
      "100%|██████████████████████████████████████████████████████████████████████████████████████████████████████████████████████████████████████████████████████████████████████████████████████████████████████████████████████████████████████████████████████| 256/256 [00:02<00:00, 97.98it/s]\n"
     ]
    },
    {
     "name": "stdout",
     "output_type": "stream",
     "text": [
      "Getting feats for condition: (3, 2)\n",
      "src_song: 702021966_2269624284.npy, rand_int: 3030, src_gend: F, avg_src_pitch: 32\n",
      "32\n",
      "attempt num: 0, candidate_song: 415550437_1525101561.npy\n",
      "attempt num: 1, candidate_song: 792755197_2063165078.npy\n"
     ]
    },
    {
     "name": "stderr",
     "output_type": "stream",
     "text": [
      "  5%|███████████▌                                                                                                                                                                                                                                          | 12/256 [00:00<00:02, 111.35it/s]"
     ]
    },
    {
     "name": "stdout",
     "output_type": "stream",
     "text": [
      "Synthesizing converted audio at: /homes/bdoc3/my_data/audio_data/output_audio/listeningTest3audio/1288/M-C-Sng_F702021966_timestep3030_M792755197.wav\n"
     ]
    },
    {
     "name": "stderr",
     "output_type": "stream",
     "text": [
      "100%|█████████████████████████████████████████████████████████████████████████████████████████████████████████████████████████████████████████████████████████████████████████████████████████████████████████████████████████████████████████████████████| 256/256 [00:02<00:00, 100.78it/s]\n",
      "  4%|██████████▌                                                                                                                                                                                                                                           | 11/256 [00:00<00:02, 103.68it/s]"
     ]
    },
    {
     "name": "stdout",
     "output_type": "stream",
     "text": [
      "Synthesizing converted audio at: /homes/bdoc3/my_data/audio_data/output_audio/listeningTest3audio/1288/M-C-Sng_F702021966_timestep3030_M792755197_target.wav\n"
     ]
    },
    {
     "name": "stderr",
     "output_type": "stream",
     "text": [
      "100%|█████████████████████████████████████████████████████████████████████████████████████████████████████████████████████████████████████████████████████████████████████████████████████████████████████████████████████████████████████████████████████| 256/256 [00:02<00:00, 103.28it/s]\n"
     ]
    },
    {
     "name": "stdout",
     "output_type": "stream",
     "text": [
      "Getting feats for condition: (3, 3)\n",
      "src_song: 571867968_1997751391.npy, rand_int: 7110, src_gend: F, avg_src_pitch: 25\n",
      "25\n",
      "attempt num: 0, candidate_song: 84357560_1564596901.npy\n",
      "attempt num: 0, candidate_song: 1456702500_1823349608.npy\n"
     ]
    },
    {
     "name": "stderr",
     "output_type": "stream",
     "text": [
      "  4%|█████████▋                                                                                                                                                                                                                                             | 10/256 [00:00<00:02, 93.74it/s]"
     ]
    },
    {
     "name": "stdout",
     "output_type": "stream",
     "text": [
      "Synthesizing converted audio at: /homes/bdoc3/my_data/audio_data/output_audio/listeningTest3audio/1288/M-C-Sng_F571867968_timestep7110_F1456702500.wav\n"
     ]
    },
    {
     "name": "stderr",
     "output_type": "stream",
     "text": [
      "100%|█████████████████████████████████████████████████████████████████████████████████████████████████████████████████████████████████████████████████████████████████████████████████████████████████████████████████████████████████████████████████████| 256/256 [00:02<00:00, 102.82it/s]\n",
      "  4%|█████████▋                                                                                                                                                                                                                                             | 10/256 [00:00<00:02, 96.68it/s]"
     ]
    },
    {
     "name": "stdout",
     "output_type": "stream",
     "text": [
      "Synthesizing converted audio at: /homes/bdoc3/my_data/audio_data/output_audio/listeningTest3audio/1288/M-C-Sng_F571867968_timestep7110_F1456702500_target.wav\n"
     ]
    },
    {
     "name": "stderr",
     "output_type": "stream",
     "text": [
      "100%|█████████████████████████████████████████████████████████████████████████████████████████████████████████████████████████████████████████████████████████████████████████████████████████████████████████████████████████████████████████████████████| 256/256 [00:02<00:00, 101.34it/s]\n"
     ]
    }
   ],
   "source": [
    "gender_separated_lists = get_gender_lists()\n",
    "\n",
    "for j, model_name in enumerate(model_names.keys()):\n",
    "\n",
    "    # model_name = 'damp_mel_Size0.25-avgEmbs_with-bestPerformingSIE_mel80-'\n",
    "\n",
    "    # load up models\n",
    "    this_svc_model_dir = os.path.join(saved_models_dir, model_name)\n",
    "    ckpt_path = os.path.join(this_svc_model_dir, ckpt)\n",
    "    # if j != 0:\n",
    "    #     del sys.path[1]\n",
    "    sys.path.insert(1, this_svc_model_dir)\n",
    "    from this_train_params import *\n",
    "    if not 'pkl_fn_extras' in globals():\n",
    "        pkl_fn_extras = ''\n",
    "\n",
    "    with open(os.path.join(SVC_feat_dir, 'feat_params.yaml')) as File:\n",
    "        SVC_feat_params = yaml.load(File, Loader=yaml.FullLoader)\n",
    "    with open(os.path.join(SIE_feat_dir, 'feat_params.yaml')) as File:\n",
    "        SIE_feat_params = yaml.load(File, Loader=yaml.FullLoader)\n",
    "\n",
    "    pitch_dim = len(midi_range)+1\n",
    "    if not SVC_pitch_cond:\n",
    "        pitch_dim = 0\n",
    "\n",
    "    print(f'Loading model: {model_name}')\n",
    "    G, _, _ = utils.setup_gen(dim_neck, dim_emb, dim_pre, sample_freq, 80, pitch_dim, device, ckpt_path, adam_init)\n",
    "\n",
    "    sie_model_name = os.path.basename(SIE_model_path)\n",
    "    SIE_dataset_name = os.path.basename(SIE_feat_dir)\n",
    "    metadata_path = os.path.join(metadata_root_dir,\n",
    "                                 sie_model_name,\n",
    "                                 SIE_dataset_name,\n",
    "                                 subset,\n",
    "                                 f'voices_metadata{pkl_fn_extras}.pkl')\n",
    "    subset_metadata = pickle.load(open(metadata_path, \"rb\"))\n",
    "    subset_names = [metad[0] for metad in subset_metadata]\n",
    "\n",
    "    # if model_name == 'damp_mel_Size0.25-avgEmbs_withCcLoss-autoVc_pretrainedOnVctk_Mels80-':\n",
    "    #     temp_gender_conds = gender_conds[2:]\n",
    "    # else:\n",
    "    #     temp_gender_conds = gender_conds\n",
    "\n",
    "    temp_gender_conds = gender_conds\n",
    "\n",
    "    # GET GENDER LIST OF DAMP SINGERS AND USE ONLY TEST SUBSET ENTRIES\n",
    "\n",
    "    for i, (src_gender, trg_gender) in enumerate(temp_gender_conds):\n",
    "\n",
    "#         src_gender, trg_gender = (0, 0)\n",
    "\n",
    "        if j == 0 and i == 0:\n",
    "            continue\n",
    "\n",
    "        print(f'Getting feats for condition: {j, i}')\n",
    "        src_data, trg_data = pitch_matched_src_trg(src_gender, trg_gender, voiced_percent_tolerance)\n",
    "        src_clipped_spec_tns, src_clipped_pitch_tns, src_emb_tns, src_randts, src_fn = parse_data(src_data)\n",
    "        trg_clipped_spec_tns, trg_clipped_pitch_tns, trg_emb_tns, trg_randts, trg_fn = parse_data(trg_data)\n",
    "\n",
    "        if not SVC_pitch_cond:\n",
    "            src_clipped_pitch_tns = None\n",
    "\n",
    "        # conversion\n",
    "        _, converted_feats, _, _, _ = G(src_clipped_spec_tns, src_emb_tns, trg_emb_tns, src_clipped_pitch_tns)\n",
    "        converted_feats = tensor_to_array(converted_feats)\n",
    "        converted_name = get_fn_string(src_fn, trg_fn, src_randts)\n",
    "        original_trg_feats = tensor_to_array(trg_clipped_spec_tns)\n",
    "        write_to_disk(converted_name, converted_feats[:1])\n",
    "        write_to_disk(converted_name +'_target', original_trg_feats[:1])"
   ]
  },
  {
   "cell_type": "code",
   "execution_count": null,
   "metadata": {},
   "outputs": [],
   "source": []
  }
 ],
 "metadata": {
  "kernelspec": {
   "display_name": "Python 3 (ipykernel)",
   "language": "python",
   "name": "python3"
  },
  "language_info": {
   "codemirror_mode": {
    "name": "ipython",
    "version": 3
   },
   "file_extension": ".py",
   "mimetype": "text/x-python",
   "name": "python",
   "nbconvert_exporter": "python",
   "pygments_lexer": "ipython3",
   "version": "3.7.7"
  }
 },
 "nbformat": 4,
 "nbformat_minor": 4
}
